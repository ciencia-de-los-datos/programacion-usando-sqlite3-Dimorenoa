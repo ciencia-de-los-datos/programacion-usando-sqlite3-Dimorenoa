{
 "cells": [
  {
   "cell_type": "raw",
   "id": "c8c0d21c",
   "metadata": {},
   "source": [
    "-- \n",
    "--  La tabla `tbl1` tiene la siguiente estructura:\n",
    "-- \n",
    "--    K0  CHAR(1)\n",
    "--    K1  INT\n",
    "--    c12 FLOAT\n",
    "--    c13 INT\n",
    "--    c14 DATE\n",
    "--    c15 FLOAT\n",
    "--    c16 CHAR(4)\n",
    "--\n",
    "--  Escriba una consulta en SQL que devuelva la suma del campo c12.\n",
    "-- \n",
    "--  Rta/\n",
    "--     SUM(c12)\n",
    "--  0  15137.63\n",
    "--\n",
    "--  >>> Escriba su codigo a partir de este punto <<<\n"
   ]
  },
  {
   "cell_type": "code",
   "execution_count": 5,
   "id": "9a258a99",
   "metadata": {},
   "outputs": [],
   "source": [
    "import sqlite3\n",
    "import pandas as pd\n",
    "import sys"
   ]
  },
  {
   "cell_type": "code",
   "execution_count": 6,
   "id": "ddb53cb1",
   "metadata": {},
   "outputs": [],
   "source": [
    "conn = sqlite3.connect(\":memory:\")\n",
    "cur = conn.cursor()"
   ]
  },
  {
   "cell_type": "code",
   "execution_count": 9,
   "id": "db2818f6",
   "metadata": {},
   "outputs": [],
   "source": [
    "with open(\"create_tables.sql\", encoding=\"utf-8\") as file:\n",
    "    cur.executescript(file.read())"
   ]
  },
  {
   "cell_type": "code",
   "execution_count": 13,
   "id": "f03f19ca",
   "metadata": {
    "scrolled": false
   },
   "outputs": [
    {
     "data": {
      "text/plain": [
       "[('E', 1, 273.08, 600, '2016-12-31', 0.21, 'BDGD'),\n",
       " ('D', 2, 756.37, 500, '2019-02-28', 0.37, 'BCCC'),\n",
       " ('E', 3, 305.43, 100, '2017-05-21', 0.21, 'BAED'),\n",
       " ('D', 4, 662.69, 800, '2017-03-26', 0.23, 'BGDD'),\n",
       " ('C', 5, 822.81, 100, '2017-11-17', 0.35, 'GGFC'),\n",
       " ('A', 6, 391.42, 300, '2018-05-15', 0.22, 'BFGB'),\n",
       " ('C', 7, 755.27, 800, '2018-07-04', 0.47, 'GCDB'),\n",
       " ('E', 8, 302.86, 700, '2016-12-22', 0.14, 'DFCC'),\n",
       " ('C', 9, 267.42, 200, '2018-04-18', 0.1, 'DGCE'),\n",
       " ('A', 10, 816.51, 600, '2019-04-25', 0.4, 'DAGC'),\n",
       " ('C', 11, 346.64, 900, '2017-04-18', 0.15, 'FBBC'),\n",
       " ('B', 12, 999.72, 800, '2016-11-09', 0.26, 'FCGD'),\n",
       " ('C', 13, 712.61, 400, '2017-10-23', 0.31, 'EDDA'),\n",
       " ('E', 14, 832.44, 800, '2016-11-22', 0.39, 'EGFD'),\n",
       " ('C', 15, 370.58, 900, '2016-10-01', 0.11, 'GCDD'),\n",
       " ('B', 16, 283.4, 600, '2019-04-11', 0.14, 'BDEE'),\n",
       " ('E', 17, 692.93, 200, '2018-03-25', 0.25, 'BGGA'),\n",
       " ('A', 18, 142.99, 100, '2017-02-12', 0.48, 'GGFD'),\n",
       " ('C', 19, 570.43, 400, '2019-04-12', 0.48, 'FBEE'),\n",
       " ('A', 20, 938.16, 300, '2016-09-12', 0.19, 'BECB'),\n",
       " ('B', 21, 409.34, 400, '2019-04-29', 0.23, 'GFAE'),\n",
       " ('E', 22, 118.77, 900, '2016-10-29', 0.32, 'GEFE'),\n",
       " ('E', 23, 325.15, 200, '2019-04-21', 0.19, 'FBGC'),\n",
       " ('C', 24, 482.32, 300, '2019-05-03', 0.11, 'CCCE'),\n",
       " ('E', 25, 600.9, 700, '2018-11-07', 0.36, 'BBBA'),\n",
       " ('A', 26, 456.47, 400, '2018-01-28', 0.11, 'FGED'),\n",
       " ('E', 27, 720.9, 800, '2017-01-16', 0.12, 'FBGD'),\n",
       " ('B', 28, 326.45, 700, '2017-07-27', 0.36, 'AGAA'),\n",
       " ('D', 29, 317.77, 200, '2017-02-27', 0.47, 'GCEA'),\n",
       " ('A', 30, 135.8, 900, '2017-01-26', 0.23, 'EGAB')]"
      ]
     },
     "execution_count": 13,
     "metadata": {},
     "output_type": "execute_result"
    }
   ],
   "source": [
    "cur.execute(\"SELECT * FROM tbl1;\").fetchall()"
   ]
  },
  {
   "cell_type": "code",
   "execution_count": 18,
   "id": "1e9107d5",
   "metadata": {},
   "outputs": [
    {
     "data": {
      "text/plain": [
       "[(15137.63,)]"
      ]
     },
     "execution_count": 18,
     "metadata": {},
     "output_type": "execute_result"
    }
   ],
   "source": [
    "cur.execute(\"SELECT SUM(c12) FROM tbl1;\").fetchall()"
   ]
  },
  {
   "cell_type": "raw",
   "id": "0ba820fc",
   "metadata": {},
   "source": [
    "-- \n",
    "--  La tabla `data` tiene la siguiente estructura:\n",
    "-- \n",
    "--    K0  CHAR(1)\n",
    "--    K1  INT\n",
    "--    c12 FLOAT\n",
    "--    c13 INT\n",
    "--    c14 DATE\n",
    "--    c15 FLOAT\n",
    "--    c16 CHAR(4)\n",
    "-- \n",
    "--  Escriba una consulta que retorne la cantidad de registros\n",
    "--  de la tabla `tbl1`.\n",
    "-- \n",
    "--  Rta/\n",
    "--     COUNT(*)\n",
    "--  0        30\n",
    "--\n",
    "--  >>> Escriba su codigo a partir de este punto <<<"
   ]
  },
  {
   "cell_type": "code",
   "execution_count": 21,
   "id": "5267c903",
   "metadata": {},
   "outputs": [
    {
     "data": {
      "text/plain": [
       "[(30,)]"
      ]
     },
     "execution_count": 21,
     "metadata": {},
     "output_type": "execute_result"
    }
   ],
   "source": [
    "cur.execute(\"SELECT COUNT(*) FROM tbl1;\").fetchall()"
   ]
  },
  {
   "cell_type": "code",
   "execution_count": null,
   "id": "87ff347d",
   "metadata": {},
   "outputs": [],
   "source": []
  }
 ],
 "metadata": {
  "kernelspec": {
   "display_name": "Python 3 (ipykernel)",
   "language": "python",
   "name": "python3"
  },
  "language_info": {
   "codemirror_mode": {
    "name": "ipython",
    "version": 3
   },
   "file_extension": ".py",
   "mimetype": "text/x-python",
   "name": "python",
   "nbconvert_exporter": "python",
   "pygments_lexer": "ipython3",
   "version": "3.9.7"
  }
 },
 "nbformat": 4,
 "nbformat_minor": 5
}
