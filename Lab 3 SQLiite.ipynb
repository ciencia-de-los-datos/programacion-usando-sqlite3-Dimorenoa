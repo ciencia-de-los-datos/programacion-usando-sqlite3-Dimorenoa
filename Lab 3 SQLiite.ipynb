{
 "cells": [
  {
   "cell_type": "raw",
   "id": "c8c0d21c",
   "metadata": {},
   "source": [
    "-- \n",
    "--  1 La tabla `tbl1` tiene la siguiente estructura:\n",
    "-- \n",
    "--    K0  CHAR(1)\n",
    "--    K1  INT\n",
    "--    c12 FLOAT\n",
    "--    c13 INT\n",
    "--    c14 DATE\n",
    "--    c15 FLOAT\n",
    "--    c16 CHAR(4)\n",
    "--\n",
    "--  Escriba una consulta en SQL que devuelva la suma del campo c12.\n",
    "-- \n",
    "--  Rta/\n",
    "--     SUM(c12)\n",
    "--  0  15137.63\n",
    "--\n",
    "--  >>> Escriba su codigo a partir de este punto <<<\n"
   ]
  },
  {
   "cell_type": "code",
   "execution_count": 22,
   "id": "9a258a99",
   "metadata": {},
   "outputs": [],
   "source": [
    "import sqlite3\n",
    "import pandas as pd\n",
    "import sys"
   ]
  },
  {
   "cell_type": "code",
   "execution_count": 23,
   "id": "ddb53cb1",
   "metadata": {},
   "outputs": [],
   "source": [
    "conn = sqlite3.connect(\":memory:\")\n",
    "cur = conn.cursor()"
   ]
  },
  {
   "cell_type": "code",
   "execution_count": 24,
   "id": "db2818f6",
   "metadata": {},
   "outputs": [],
   "source": [
    "with open(\"create_tables.sql\", encoding=\"utf-8\") as file:\n",
    "    cur.executescript(file.read())"
   ]
  },
  {
   "cell_type": "code",
   "execution_count": 25,
   "id": "f03f19ca",
   "metadata": {
    "scrolled": false
   },
   "outputs": [
    {
     "data": {
      "text/plain": [
       "[('E', 1, 273.08, 600, '2016-12-31', 0.21, 'BDGD'),\n",
       " ('D', 2, 756.37, 500, '2019-02-28', 0.37, 'BCCC'),\n",
       " ('E', 3, 305.43, 100, '2017-05-21', 0.21, 'BAED'),\n",
       " ('D', 4, 662.69, 800, '2017-03-26', 0.23, 'BGDD'),\n",
       " ('C', 5, 822.81, 100, '2017-11-17', 0.35, 'GGFC'),\n",
       " ('A', 6, 391.42, 300, '2018-05-15', 0.22, 'BFGB'),\n",
       " ('C', 7, 755.27, 800, '2018-07-04', 0.47, 'GCDB'),\n",
       " ('E', 8, 302.86, 700, '2016-12-22', 0.14, 'DFCC'),\n",
       " ('C', 9, 267.42, 200, '2018-04-18', 0.1, 'DGCE'),\n",
       " ('A', 10, 816.51, 600, '2019-04-25', 0.4, 'DAGC'),\n",
       " ('C', 11, 346.64, 900, '2017-04-18', 0.15, 'FBBC'),\n",
       " ('B', 12, 999.72, 800, '2016-11-09', 0.26, 'FCGD'),\n",
       " ('C', 13, 712.61, 400, '2017-10-23', 0.31, 'EDDA'),\n",
       " ('E', 14, 832.44, 800, '2016-11-22', 0.39, 'EGFD'),\n",
       " ('C', 15, 370.58, 900, '2016-10-01', 0.11, 'GCDD'),\n",
       " ('B', 16, 283.4, 600, '2019-04-11', 0.14, 'BDEE'),\n",
       " ('E', 17, 692.93, 200, '2018-03-25', 0.25, 'BGGA'),\n",
       " ('A', 18, 142.99, 100, '2017-02-12', 0.48, 'GGFD'),\n",
       " ('C', 19, 570.43, 400, '2019-04-12', 0.48, 'FBEE'),\n",
       " ('A', 20, 938.16, 300, '2016-09-12', 0.19, 'BECB'),\n",
       " ('B', 21, 409.34, 400, '2019-04-29', 0.23, 'GFAE'),\n",
       " ('E', 22, 118.77, 900, '2016-10-29', 0.32, 'GEFE'),\n",
       " ('E', 23, 325.15, 200, '2019-04-21', 0.19, 'FBGC'),\n",
       " ('C', 24, 482.32, 300, '2019-05-03', 0.11, 'CCCE'),\n",
       " ('E', 25, 600.9, 700, '2018-11-07', 0.36, 'BBBA'),\n",
       " ('A', 26, 456.47, 400, '2018-01-28', 0.11, 'FGED'),\n",
       " ('E', 27, 720.9, 800, '2017-01-16', 0.12, 'FBGD'),\n",
       " ('B', 28, 326.45, 700, '2017-07-27', 0.36, 'AGAA'),\n",
       " ('D', 29, 317.77, 200, '2017-02-27', 0.47, 'GCEA'),\n",
       " ('A', 30, 135.8, 900, '2017-01-26', 0.23, 'EGAB')]"
      ]
     },
     "execution_count": 25,
     "metadata": {},
     "output_type": "execute_result"
    }
   ],
   "source": [
    "cur.execute(\"SELECT * FROM tbl1;\").fetchall()"
   ]
  },
  {
   "cell_type": "code",
   "execution_count": 26,
   "id": "1e9107d5",
   "metadata": {},
   "outputs": [
    {
     "data": {
      "text/plain": [
       "[(15137.63,)]"
      ]
     },
     "execution_count": 26,
     "metadata": {},
     "output_type": "execute_result"
    }
   ],
   "source": [
    "cur.execute(\"SELECT SUM(c12) FROM tbl1;\").fetchall()"
   ]
  },
  {
   "cell_type": "raw",
   "id": "0ba820fc",
   "metadata": {},
   "source": [
    "-- \n",
    "--  2 La tabla `data` tiene la siguiente estructura:\n",
    "-- \n",
    "--    K0  CHAR(1)\n",
    "--    K1  INT\n",
    "--    c12 FLOAT\n",
    "--    c13 INT\n",
    "--    c14 DATE\n",
    "--    c15 FLOAT\n",
    "--    c16 CHAR(4)\n",
    "-- \n",
    "--  Escriba una consulta que retorne la cantidad de registros\n",
    "--  de la tabla `tbl1`.\n",
    "-- \n",
    "--  Rta/\n",
    "--     COUNT(*)\n",
    "--  0        30\n",
    "--\n",
    "--  >>> Escriba su codigo a partir de este punto <<<"
   ]
  },
  {
   "cell_type": "code",
   "execution_count": 27,
   "id": "5267c903",
   "metadata": {},
   "outputs": [
    {
     "data": {
      "text/plain": [
       "[(30,)]"
      ]
     },
     "execution_count": 27,
     "metadata": {},
     "output_type": "execute_result"
    }
   ],
   "source": [
    "cur.execute(\"SELECT COUNT(*) FROM tbl1;\").fetchall()"
   ]
  },
  {
   "cell_type": "raw",
   "id": "5be2aba7",
   "metadata": {},
   "source": [
    "-- 3 La tabla `tbl1` tiene la siguiente estructura:\n",
    "-- \n",
    "--    K0  CHAR(1)\n",
    "--    K1  INT\n",
    "--    c12 FLOAT\n",
    "--    c13 INT\n",
    "--    c14 DATE\n",
    "--    c15 FLOAT\n",
    "--    c16 CHAR(4)\n",
    "-- \n",
    "--  Escriba una consulta que retorne los primeros cinco\n",
    "--  registros de la tabla `tbl1` ordenados por fecha.\n",
    "-- \n",
    "--  Rta/\n",
    "--    K0  K1     c12  c13         c14   c15   c16\n",
    "--  0  A  20  938.16  300  2016-09-12  0.19  BECB\n",
    "--  1  C  15  370.58  900  2016-10-01  0.11  GCDD\n",
    "--  2  E  22  118.77  900  2016-10-29  0.32  GEFE\n",
    "--  3  B  12  999.72  800  2016-11-09  0.26  FCGD\n",
    "--  4  E  14  832.44  800  2016-11-22  0.39  EGFD\n",
    "--\n",
    "--  >>> Escriba su codigo a partir de este punto <<<"
   ]
  },
  {
   "cell_type": "code",
   "execution_count": 28,
   "id": "5e0b81d0",
   "metadata": {},
   "outputs": [
    {
     "data": {
      "text/plain": [
       "[('A', 20, 938.16, 300, '2016-09-12', 0.19, 'BECB'),\n",
       " ('C', 15, 370.58, 900, '2016-10-01', 0.11, 'GCDD'),\n",
       " ('E', 22, 118.77, 900, '2016-10-29', 0.32, 'GEFE'),\n",
       " ('B', 12, 999.72, 800, '2016-11-09', 0.26, 'FCGD'),\n",
       " ('E', 14, 832.44, 800, '2016-11-22', 0.39, 'EGFD')]"
      ]
     },
     "execution_count": 28,
     "metadata": {},
     "output_type": "execute_result"
    }
   ],
   "source": [
    "cur.execute(\"SELECT * FROM tbl1 ORDER BY c14 LIMIT 5\").fetchall()"
   ]
  },
  {
   "cell_type": "raw",
   "id": "17ed76bd",
   "metadata": {},
   "source": [
    "-- 4 Sea el siguiente conjunto de tablas en una base de datos:\n",
    "-- \n",
    "--    tbl0\n",
    "--    ------------------------\n",
    "--    K0  CHAR(1)\n",
    "--    c01 INT\n",
    "--    c02 INT\n",
    "--    c03 CHAR(4)\n",
    "--    c04 FLOAT\n",
    "--        \n",
    "--    tbl1\n",
    "--    ------------------------\n",
    "--    K0  CHAR(1)\n",
    "--    K1  INT\n",
    "--    c12 FLOAT\n",
    "--    c13 INT\n",
    "--    c14 DATE\n",
    "--    c15 FLOAT\n",
    "--    c16 CHAR(4)\n",
    "--\n",
    "--    tbl2\n",
    "--    ------------------------\n",
    "--    K1  INT,\n",
    "--    c21 FLOAT,\n",
    "--    c22 INT,\n",
    "--    c23 DATE,\n",
    "--    c24 FLOAT,\n",
    "--    c25 CHAR(5)\n",
    "--\n",
    "--  Escriba una consulta que retorne los campos K0 y c16\n",
    "--  para los registros de la tabla tbl1 para los que la \n",
    "--  columna c16 empieza por la misma letra de la columna K0.\n",
    "--\n",
    "--  Rta/\n",
    "--    K0   c16\n",
    "--  0  E  EGFD\n",
    "--  1  B  BDEE\n",
    "--  2  C  CCCE\n",
    "--\n",
    "--  >>> Escriba su codigo a partir de este punto <<<"
   ]
  },
  {
   "cell_type": "code",
   "execution_count": 29,
   "id": "316c43a2",
   "metadata": {},
   "outputs": [
    {
     "data": {
      "text/plain": [
       "[('E', 'EGFD'), ('B', 'BDEE'), ('C', 'CCCE')]"
      ]
     },
     "execution_count": 29,
     "metadata": {},
     "output_type": "execute_result"
    }
   ],
   "source": [
    "cur.execute(\"SELECT K0,c16 FROM tbl1 WHERE SUBSTR(c16,1,1) =SUBSTR(K0,1,1)\").fetchall()"
   ]
  },
  {
   "cell_type": "raw",
   "id": "aa77e7e4",
   "metadata": {},
   "source": [
    "-- 5 Sea el siguiente conjunto de tablas en una base de datos:\n",
    "-- \n",
    "--    tbl0\n",
    "--    ------------------------\n",
    "--    K0  CHAR(1)\n",
    "--    c01 INT\n",
    "--    c02 INT\n",
    "--    c03 CHAR(4)\n",
    "--    c04 FLOAT\n",
    "--        \n",
    "--    tbl1\n",
    "--    ------------------------\n",
    "--    K0  CHAR(1)\n",
    "--    K1  INT\n",
    "--    c12 FLOAT\n",
    "--    c13 INT\n",
    "--    c14 DATE\n",
    "--    c15 FLOAT\n",
    "--    c16 CHAR(4)\n",
    "--\n",
    "--    tbl2\n",
    "--    ------------------------\n",
    "--    K1  INT,\n",
    "--    c21 FLOAT,\n",
    "--    c22 INT,\n",
    "--    c23 DATE,\n",
    "--    c24 FLOAT,\n",
    "--    c25 CHAR(5)\n",
    "--\n",
    "--  Escriba una consulta que retorne todos los campos de \n",
    "--  la tabla tbl0 para los que el campo c02 es igual a 100\n",
    "--  o igual a 600\n",
    "-- \n",
    "-- Rta/\n",
    "--    K0   c01  c02    c03  c04\n",
    "--  0  B  7000  100  OLPKN  0.2\n",
    "--  1  C  1000  600  LMMML  0.2\n",
    "--  2  D  4000  600  PJLJL  0.4\n",
    "--  3  G  5000  100  NLPLO  0.2\n",
    "--\n",
    "--  >>> Escriba su codigo a partir de este punto <<<"
   ]
  },
  {
   "cell_type": "code",
   "execution_count": 30,
   "id": "076cfc9e",
   "metadata": {},
   "outputs": [
    {
     "data": {
      "text/plain": [
       "[('B', 7000, 100, 'OLPKN', 0.2),\n",
       " ('C', 1000, 600, 'LMMML', 0.2),\n",
       " ('D', 4000, 600, 'PJLJL', 0.4),\n",
       " ('G', 5000, 100, 'NLPLO', 0.2)]"
      ]
     },
     "execution_count": 30,
     "metadata": {},
     "output_type": "execute_result"
    }
   ],
   "source": [
    "cur.execute(\"SELECT * FROM tbl0 WHERE c02 in (100,600)\").fetchall()"
   ]
  },
  {
   "cell_type": "raw",
   "id": "dcf45687",
   "metadata": {},
   "source": [
    "--  6 Sea el siguiente conjunto de tablas en una base de datos:\n",
    "-- \n",
    "--    tbl0\n",
    "--    ------------------------\n",
    "--    K0  CHAR(1)\n",
    "--    c01 INT\n",
    "--    c02 INT\n",
    "--    c03 CHAR(4)\n",
    "--    c04 FLOAT\n",
    "--        \n",
    "--    tbl1\n",
    "--    ------------------------\n",
    "--    K0  CHAR(1)\n",
    "--    K1  INT\n",
    "--    c12 FLOAT\n",
    "--    c13 INT\n",
    "--    c14 DATE\n",
    "--    c15 FLOAT\n",
    "--    c16 CHAR(4)\n",
    "--\n",
    "--    tbl2\n",
    "--    ------------------------\n",
    "--    K1  INT,\n",
    "--    c21 FLOAT,\n",
    "--    c22 INT,\n",
    "--    c23 DATE,\n",
    "--    c24 FLOAT,\n",
    "--    c25 CHAR(5)\n",
    "--\n",
    "--  Escriba una consulta que retorne todos los campos de \n",
    "--  la tabla tbl1 ordenada por fecha (c14) para los \n",
    "--  registros con K0 igual a A\n",
    "-- \n",
    "--  Rta/\n",
    "--    K0  K1     c12  c13         c14   c15   c16\n",
    "--  0  A  20  938.16  300  2016-09-12  0.19  BECB\n",
    "--  1  A  30  135.80  900  2017-01-26  0.23  EGAB\n",
    "--  2  A  18  142.99  100  2017-02-12  0.48  GGFD\n",
    "--  3  A  26  456.47  400  2018-01-28  0.11  FGED\n",
    "--  4  A   6  391.42  300  2018-05-15  0.22  BFGB\n",
    "--  5  A  10  816.51  600  2019-04-25  0.40  DAGC\n",
    "--\n",
    "--  >>> Escriba su codigo a partir de este punto <<<"
   ]
  },
  {
   "cell_type": "code",
   "execution_count": 31,
   "id": "01d555c1",
   "metadata": {},
   "outputs": [
    {
     "data": {
      "text/plain": [
       "[('A', 20, 938.16, 300, '2016-09-12', 0.19, 'BECB'),\n",
       " ('A', 30, 135.8, 900, '2017-01-26', 0.23, 'EGAB'),\n",
       " ('A', 18, 142.99, 100, '2017-02-12', 0.48, 'GGFD'),\n",
       " ('A', 26, 456.47, 400, '2018-01-28', 0.11, 'FGED'),\n",
       " ('A', 6, 391.42, 300, '2018-05-15', 0.22, 'BFGB'),\n",
       " ('A', 10, 816.51, 600, '2019-04-25', 0.4, 'DAGC')]"
      ]
     },
     "execution_count": 31,
     "metadata": {},
     "output_type": "execute_result"
    }
   ],
   "source": [
    "cur.execute(\"SELECT * FROM tbl1 WHERE K0='A' ORDER BY c14\").fetchall()"
   ]
  },
  {
   "cell_type": "raw",
   "id": "7fcd526f",
   "metadata": {},
   "source": [
    "--  7 Sea el siguiente conjunto de tablas en una base de datos:\n",
    "-- \n",
    "--    tbl0\n",
    "--    ------------------------\n",
    "--    K0  CHAR(1)\n",
    "--    c01 INT\n",
    "--    c02 INT\n",
    "--    c03 CHAR(4)\n",
    "--    c04 FLOAT\n",
    "--        \n",
    "--    tbl1\n",
    "--    ------------------------\n",
    "--    K0  CHAR(1)\n",
    "--    K1  INT\n",
    "--    c12 FLOAT\n",
    "--    c13 INT\n",
    "--    c14 DATE\n",
    "--    c15 FLOAT\n",
    "--    c16 CHAR(4)\n",
    "--\n",
    "--    tbl2\n",
    "--    ------------------------\n",
    "--    K1  INT,\n",
    "--    c21 FLOAT,\n",
    "--    c22 INT,\n",
    "--    c23 DATE,\n",
    "--    c24 FLOAT,\n",
    "--    c25 CHAR(5)\n",
    "--\n",
    "--  Escriba una consulta que retorne todos los campos de \n",
    "--  la tabla tbl1 ordenada por fecha (c14) para los \n",
    "--  registros con K0 diferente a A y B y c13 diferente \n",
    "--  de 200 y 900\n",
    "--\n",
    "--  Rta/\n",
    "--     K0  K1     c12  c13         c14   c15   c16\n",
    "--  0   E  14  832.44  800  2016-11-22  0.39  EGFD\n",
    "--  1   E   8  302.86  700  2016-12-22  0.14  DFCC\n",
    "--  ...\n",
    "--  11  C  19  570.43  400  2019-04-12  0.48  FBEE\n",
    "--  12  C  24  482.32  300  2019-05-03  0.11  CCCE\n",
    "-- \n",
    "--  >>> Escriba su codigo a partir de este punto <<<"
   ]
  },
  {
   "cell_type": "code",
   "execution_count": 32,
   "id": "644134f2",
   "metadata": {},
   "outputs": [
    {
     "data": {
      "text/plain": [
       "[('E', 14, 832.44, 800, '2016-11-22', 0.39, 'EGFD'),\n",
       " ('E', 8, 302.86, 700, '2016-12-22', 0.14, 'DFCC'),\n",
       " ('E', 1, 273.08, 600, '2016-12-31', 0.21, 'BDGD'),\n",
       " ('E', 27, 720.9, 800, '2017-01-16', 0.12, 'FBGD'),\n",
       " ('D', 4, 662.69, 800, '2017-03-26', 0.23, 'BGDD'),\n",
       " ('E', 3, 305.43, 100, '2017-05-21', 0.21, 'BAED'),\n",
       " ('C', 13, 712.61, 400, '2017-10-23', 0.31, 'EDDA'),\n",
       " ('C', 5, 822.81, 100, '2017-11-17', 0.35, 'GGFC'),\n",
       " ('C', 7, 755.27, 800, '2018-07-04', 0.47, 'GCDB'),\n",
       " ('E', 25, 600.9, 700, '2018-11-07', 0.36, 'BBBA'),\n",
       " ('D', 2, 756.37, 500, '2019-02-28', 0.37, 'BCCC'),\n",
       " ('C', 19, 570.43, 400, '2019-04-12', 0.48, 'FBEE'),\n",
       " ('C', 24, 482.32, 300, '2019-05-03', 0.11, 'CCCE')]"
      ]
     },
     "execution_count": 32,
     "metadata": {},
     "output_type": "execute_result"
    }
   ],
   "source": [
    "cur.execute(\"SELECT * FROM tbl1 WHERE K0 NOT IN ('A','B') AND c13 NOT IN (200,900) ORDER BY c14\").fetchall()"
   ]
  },
  {
   "cell_type": "raw",
   "id": "1b138d65",
   "metadata": {},
   "source": [
    "-- 8 Sea el siguiente conjunto de tablas en una base de datos:\n",
    "-- \n",
    "--    tbl0\n",
    "--    ------------------------\n",
    "--    K0  CHAR(1)\n",
    "--    c01 INT\n",
    "--    c02 INT\n",
    "--    c03 CHAR(4)\n",
    "--    c04 FLOAT\n",
    "--        \n",
    "--    tbl1\n",
    "--    ------------------------\n",
    "--    K0  CHAR(1)\n",
    "--    K1  INT\n",
    "--    c12 FLOAT\n",
    "--    c13 INT\n",
    "--    c14 DATE\n",
    "--    c15 FLOAT\n",
    "--    c16 CHAR(4)\n",
    "--\n",
    "--    tbl2\n",
    "--    ------------------------\n",
    "--    K1  INT,\n",
    "--    c21 FLOAT,\n",
    "--    c22 INT,\n",
    "--    c23 DATE,\n",
    "--    c24 FLOAT,\n",
    "--    c25 CHAR(5)\n",
    "--\n",
    "--  Escriba una consulta que compute el promedio\n",
    "--  de la columna c21 de la tabla tbl2 por ano \n",
    "--  (columna c23).\n",
    "--\n",
    "--  Rta/\n",
    "--     YEAR    avg(c21)\n",
    "--  0  2016  564.476429\n",
    "--  1  2017  515.156364\n",
    "--  2  2018  557.559375\n",
    "--  3  2019  550.998571\n",
    "--\n",
    "--  >>> Escriba su codigo a partir de este punto <<<"
   ]
  },
  {
   "cell_type": "code",
   "execution_count": 42,
   "id": "70660df9",
   "metadata": {
    "scrolled": true
   },
   "outputs": [
    {
     "data": {
      "text/plain": [
       "[('2016', 564.4764285714285),\n",
       " ('2017', 515.1563636363637),\n",
       " ('2018', 557.5593749999999),\n",
       " ('2019', 550.9985714285714)]"
      ]
     },
     "execution_count": 42,
     "metadata": {},
     "output_type": "execute_result"
    }
   ],
   "source": [
    "cur.execute(\"SELECT SUBSTR(c23,1,4) AS YEAR,AVG(c21) FROM tbl2 GROUP BY SUBSTR (c23,1,4)\").fetchall()"
   ]
  },
  {
   "cell_type": "code",
   "execution_count": 45,
   "id": "efab8684",
   "metadata": {},
   "outputs": [
    {
     "data": {
      "text/plain": [
       "[(564.4764285714285,),\n",
       " (515.1563636363637,),\n",
       " (557.5593749999999,),\n",
       " (550.9985714285714,)]"
      ]
     },
     "execution_count": 45,
     "metadata": {},
     "output_type": "execute_result"
    }
   ],
   "source": [
    "cur.execute(\"SELECT AVG(c21) FROM tbl2 GROUP BY strftime('%Y',c23)\").fetchall()"
   ]
  },
  {
   "cell_type": "raw",
   "id": "032da00b",
   "metadata": {},
   "source": [
    "-- 9 Sea el siguiente conjunto de tablas en una base de datos:\n",
    "-- \n",
    "--    tbl0\n",
    "--    ------------------------\n",
    "--    K0  CHAR(1)\n",
    "--    c01 INT\n",
    "--    c02 INT\n",
    "--    c03 CHAR(4)\n",
    "--    c04 FLOAT\n",
    "--        \n",
    "--    tbl1\n",
    "--    ------------------------\n",
    "--    K0  CHAR(1)\n",
    "--    K1  INT\n",
    "--    c12 FLOAT\n",
    "--    c13 INT\n",
    "--    c14 DATE\n",
    "--    c15 FLOAT\n",
    "--    c16 CHAR(4)\n",
    "--\n",
    "--    tbl2\n",
    "--    ------------------------\n",
    "--    K1  INT,\n",
    "--    c21 FLOAT,\n",
    "--    c22 INT,\n",
    "--    c23 DATE,\n",
    "--    c24 FLOAT,\n",
    "--    c25 CHAR(5)\n",
    "--\n",
    "--  Escriba una consulta que retorne el registro\n",
    "--  con el menor valor en la columna c21 de la \n",
    "--  tabla tbl2.\n",
    "--\n",
    "--  Rta/\n",
    "--     K1     c21  c22         c23   c24    c25\n",
    "--  0  29  101.11  100  2017-11-17  0.42  MV-CB\n",
    "--\n",
    "--  >>> Escriba su codigo a partir de este punto <<<"
   ]
  },
  {
   "cell_type": "code",
   "execution_count": 34,
   "id": "bb192454",
   "metadata": {},
   "outputs": [
    {
     "data": {
      "text/plain": [
       "[(29, 101.11, 100, '2017-11-17', 0.42, 'MV-CB')]"
      ]
     },
     "execution_count": 34,
     "metadata": {},
     "output_type": "execute_result"
    }
   ],
   "source": [
    "cur.execute(\"SELECT * FROM tbl2 WHERE c21 = (SELECT min(c21) FROM tbl2)\").fetchall()"
   ]
  },
  {
   "cell_type": "raw",
   "id": "25137802",
   "metadata": {},
   "source": [
    "-- 10 Sea el siguiente conjunto de tablas en una base de datos:\n",
    "-- \n",
    "--    tbl0\n",
    "--    ------------------------\n",
    "--    K0  CHAR(1)\n",
    "--    c01 INT\n",
    "--    c02 INT\n",
    "--    c03 CHAR(4)\n",
    "--    c04 FLOAT\n",
    "--        \n",
    "--    tbl1\n",
    "--    ------------------------\n",
    "--    K0  CHAR(1)\n",
    "--    K1  INT\n",
    "--    c12 FLOAT\n",
    "--    c13 INT\n",
    "--    c14 DATE\n",
    "--    c15 FLOAT\n",
    "--    c16 CHAR(4)\n",
    "--\n",
    "--    tbl2\n",
    "--    ------------------------\n",
    "--    K1  INT,\n",
    "--    c21 FLOAT,\n",
    "--    c22 INT,\n",
    "--    c23 DATE,\n",
    "--    c24 FLOAT,\n",
    "--    c25 CHAR(5)\n",
    "--\n",
    "--  Escriba una consulta que retorne todos los \n",
    "--  campos de los registros de la tabla tbl0 \n",
    "--  con la columna c02 mayor o igual a 300.\n",
    "--\n",
    "--  Rta/\n",
    "--     K0   c01  c02    c03  c04\n",
    "--  0   A  5000  900  NMNJL  0.4\n",
    "--  1   C  1000  600  LMMML  0.2\n",
    "--  2   D  4000  600  PJLJL  0.4\n",
    "--  3   F  2000  300  NNPJO  0.3\n",
    "--  4   I  3000  300  PPPPL  0.3\n",
    "--\n",
    "--  >>> Escriba su codigo a partir de este punto <<<"
   ]
  },
  {
   "cell_type": "code",
   "execution_count": 35,
   "id": "321b2bdf",
   "metadata": {},
   "outputs": [
    {
     "data": {
      "text/plain": [
       "[('A', 5000, 900, 'NMNJL', 0.4),\n",
       " ('C', 1000, 600, 'LMMML', 0.2),\n",
       " ('D', 4000, 600, 'PJLJL', 0.4),\n",
       " ('F', 2000, 300, 'NNPJO', 0.3),\n",
       " ('I', 3000, 300, 'PPPPL', 0.3)]"
      ]
     },
     "execution_count": 35,
     "metadata": {},
     "output_type": "execute_result"
    }
   ],
   "source": [
    "cur.execute(\"SELECT * FROM tbl0 WHERE c02 >= 300\").fetchall()"
   ]
  },
  {
   "cell_type": "raw",
   "id": "939f32cd",
   "metadata": {},
   "source": [
    "-- 11 Sea el siguiente conjunto de tablas en una base de datos:\n",
    "-- \n",
    "--    tbl0\n",
    "--    ------------------------\n",
    "--    K0  CHAR(1)\n",
    "--    c01 INT\n",
    "--    c02 INT\n",
    "--    c03 CHAR(4)\n",
    "--    c04 FLOAT\n",
    "--        \n",
    "--    tbl1\n",
    "--    ------------------------\n",
    "--    K0  CHAR(1)\n",
    "--    K1  INT\n",
    "--    c12 FLOAT\n",
    "--    c13 INT\n",
    "--    c14 DATE\n",
    "--    c15 FLOAT\n",
    "--    c16 CHAR(4)\n",
    "--\n",
    "--    tbl2\n",
    "--    ------------------------\n",
    "--    K1  INT,\n",
    "--    c21 FLOAT,\n",
    "--    c22 INT,\n",
    "--    c23 DATE,\n",
    "--    c24 FLOAT,\n",
    "--    c25 CHAR(5)\n",
    "--\n",
    "--  Escriba una consulta que retorne el total \n",
    "--  de registros de la tabla tbl1 para el ano\n",
    "--  2018\n",
    "--\n",
    "--  Rta/\n",
    "--     YEAR  CANT\n",
    "--  0  2018     6\n",
    "--\n",
    "--  >>> Escriba su codigo a partir de este punto <<<"
   ]
  },
  {
   "cell_type": "code",
   "execution_count": 36,
   "id": "2446c55d",
   "metadata": {},
   "outputs": [
    {
     "data": {
      "text/plain": [
       "[('2018', 6)]"
      ]
     },
     "execution_count": 36,
     "metadata": {},
     "output_type": "execute_result"
    }
   ],
   "source": [
    "cur.execute(\"SELECT SUBSTR(c14,1,4) AS YEAR,COUNT(*) AS CANT FROM tbl1 WHERE SUBSTR(c14,1,4) = '2018' GROUP BY SUBSTR(c14,1,4)\").fetchall()\n"
   ]
  },
  {
   "cell_type": "code",
   "execution_count": 37,
   "id": "850a627b",
   "metadata": {},
   "outputs": [
    {
     "data": {
      "text/plain": [
       "[(6,)]"
      ]
     },
     "execution_count": 37,
     "metadata": {},
     "output_type": "execute_result"
    }
   ],
   "source": [
    "cur.execute(\"SELECT COUNT(*) FROM tbl1 WHERE strftime('%Y', c14) = '2018'\").fetchall()"
   ]
  },
  {
   "cell_type": "code",
   "execution_count": null,
   "id": "a5013eb2",
   "metadata": {},
   "outputs": [],
   "source": []
  },
  {
   "cell_type": "raw",
   "id": "0628605b",
   "metadata": {},
   "source": [
    "-- 12 Sea el siguiente conjunto de tablas en una base de datos:\n",
    "-- \n",
    "--    tbl0\n",
    "--    ------------------------\n",
    "--    K0  CHAR(1)\n",
    "--    c01 INT\n",
    "--    c02 INT\n",
    "--    c03 CHAR(4)\n",
    "--    c04 FLOAT\n",
    "--        \n",
    "--    tbl1\n",
    "--    ------------------------\n",
    "--    K0  CHAR(1)\n",
    "--    K1  INT\n",
    "--    c12 FLOAT\n",
    "--    c13 INT\n",
    "--    c14 DATE\n",
    "--    c15 FLOAT\n",
    "--    c16 CHAR(4)\n",
    "--\n",
    "--    tbl2\n",
    "--    ------------------------\n",
    "--    K1  INT,\n",
    "--    c21 FLOAT,\n",
    "--    c22 INT,\n",
    "--    c23 DATE,\n",
    "--    c24 FLOAT,\n",
    "--    c25 CHAR(5)\n",
    "--\n",
    "--  Escriba una consulta que retorne por cada letra\n",
    "--  de la columna K0, el valor máximo de la coumna c12\n",
    "--  en la tabla tbl1.\n",
    "--\n",
    "--  Rta/\n",
    "--    K0  MAX(c12)  min(C12)\n",
    "--  0  A    938.16    135.80\n",
    "--  1  B    999.72    283.40\n",
    "--  2  C    822.81    267.42\n",
    "--  3  D    756.37    317.77\n",
    "--  4  E    832.44    118.77\n",
    "--\n",
    "--  >>> Escriba su codigo a partir de este punto <<<"
   ]
  },
  {
   "cell_type": "code",
   "execution_count": 38,
   "id": "c45387f0",
   "metadata": {
    "scrolled": true
   },
   "outputs": [
    {
     "data": {
      "text/plain": [
       "[('A', 938.16, 135.8),\n",
       " ('B', 999.72, 283.4),\n",
       " ('C', 822.81, 267.42),\n",
       " ('D', 756.37, 317.77),\n",
       " ('E', 832.44, 118.77)]"
      ]
     },
     "execution_count": 38,
     "metadata": {},
     "output_type": "execute_result"
    }
   ],
   "source": [
    "cur.execute(\"SELECT K0, max(c12) AS 'MAX(c12)', min(c12) AS 'min(C12)' FROM tbl1 GROUP BY K0\").fetchall()"
   ]
  },
  {
   "cell_type": "code",
   "execution_count": 39,
   "id": "7da455f4",
   "metadata": {},
   "outputs": [
    {
     "data": {
      "text/plain": [
       "[('A', 938.16, 135.8),\n",
       " ('B', 999.72, 283.4),\n",
       " ('C', 822.81, 267.42),\n",
       " ('D', 756.37, 317.77),\n",
       " ('E', 832.44, 118.77)]"
      ]
     },
     "execution_count": 39,
     "metadata": {},
     "output_type": "execute_result"
    }
   ],
   "source": [
    "cur.execute(\"SELECT K0, MAX(c12), MIN(c12) FROM tbl1 GROUP BY K0\").fetchall()"
   ]
  },
  {
   "cell_type": "raw",
   "id": "2784a7f5",
   "metadata": {},
   "source": [
    "-- 13 Sea el siguiente conjunto de tablas en una base de datos:\n",
    "-- \n",
    "--    tbl0\n",
    "--    ------------------------\n",
    "--    K0  CHAR(1)\n",
    "--    c01 INT\n",
    "--    c02 INT\n",
    "--    c03 CHAR(4)\n",
    "--    c04 FLOAT\n",
    "--        \n",
    "--    tbl1\n",
    "--    ------------------------\n",
    "--    K0  CHAR(1)\n",
    "--    K1  INT\n",
    "--    c12 FLOAT\n",
    "--    c13 INT\n",
    "--    c14 DATE\n",
    "--    c15 FLOAT\n",
    "--    c16 CHAR(4)\n",
    "--\n",
    "--    tbl2\n",
    "--    ------------------------\n",
    "--    K1  INT,\n",
    "--    c21 FLOAT,\n",
    "--    c22 INT,\n",
    "--    c23 DATE,\n",
    "--    c24 FLOAT,\n",
    "--    c25 CHAR(5)\n",
    "--\n",
    "--  Escriba una consulta que retorne por cada letra\n",
    "--  de la columna K0, el valor promedio de la columna c12\n",
    "--  en la tabla tbl1, para aquellos registros con c13 mayor\n",
    "--  a 400.\n",
    "--\n",
    "--  Rta/\n",
    "--    K0    avg(c12)\n",
    "--  0  A  476.155000\n",
    "--  1  B  536.523333\n",
    "--  2  C  490.830000\n",
    "--  3  D  709.530000\n",
    "--  4  E  474.825000\n",
    "-- \n",
    "--  >>> Escriba su codigo a partir de este punto <<<"
   ]
  },
  {
   "cell_type": "code",
   "execution_count": 40,
   "id": "195bbdcd",
   "metadata": {},
   "outputs": [
    {
     "data": {
      "text/plain": [
       "[('A', 476.155),\n",
       " ('B', 536.5233333333333),\n",
       " ('C', 490.8299999999999),\n",
       " ('D', 709.53),\n",
       " ('E', 474.82500000000005)]"
      ]
     },
     "execution_count": 40,
     "metadata": {},
     "output_type": "execute_result"
    }
   ],
   "source": [
    "cur.execute(\"SELECT K0, avg(c12) FROM tbl1 WHERE c13 > 400 GROUP BY K0\").fetchall()"
   ]
  },
  {
   "cell_type": "raw",
   "id": "a188a037",
   "metadata": {},
   "source": [
    "--  14 Sea el siguiente conjunto de tablas en una base de datos:\n",
    "-- \n",
    "--    tbl0\n",
    "--    ------------------------\n",
    "--    K0  CHAR(1)\n",
    "--    c01 INT\n",
    "--    c02 INT\n",
    "--    c03 CHAR(4)\n",
    "--    c04 FLOAT\n",
    "--        \n",
    "--    tbl1\n",
    "--    ------------------------\n",
    "--    K0  CHAR(1)\n",
    "--    K1  INT\n",
    "--    c12 FLOAT\n",
    "--    c13 INT\n",
    "--    c14 DATE\n",
    "--    c15 FLOAT\n",
    "--    c16 CHAR(4)\n",
    "--\n",
    "--    tbl2\n",
    "--    ------------------------\n",
    "--    K1  INT,\n",
    "--    c21 FLOAT,\n",
    "--    c22 INT,\n",
    "--    c23 DATE,\n",
    "--    c24 FLOAT,\n",
    "--    c25 CHAR(5)\n",
    "--\n",
    "--  Escriba una consulta que retorne por cada letra de la\n",
    "--  columna K0 de la tabla tbl1, el valor promedio de la \n",
    "--  columna c21 en la tabla tbl2, para aquellos registros\n",
    "--  con c13 mayor a 400.\n",
    "--\n",
    "--  Rta/\n",
    "--  K0    avg(c21)\n",
    "--  0  A  593.495000\n",
    "--  1  B  575.470000\n",
    "--  2  C  530.753000\n",
    "--  3  D  655.612500\n",
    "--  4  E  555.323077\n",
    "--\n",
    "--  >>> Escriba su codigo a partir de este punto <<<"
   ]
  },
  {
   "cell_type": "code",
   "execution_count": 41,
   "id": "b0ee2e4f",
   "metadata": {},
   "outputs": [
    {
     "data": {
      "text/plain": [
       "[('A', 593.495),\n",
       " ('B', 575.47),\n",
       " ('C', 530.7529999999999),\n",
       " ('D', 655.6125),\n",
       " ('E', 555.323076923077)]"
      ]
     },
     "execution_count": 41,
     "metadata": {},
     "output_type": "execute_result"
    }
   ],
   "source": [
    "cur.execute(\"SELECT t1.K0, avg(t2.c21) as 'avg(c21)' FROM tbl1 t1 inner join tbl2 t2 on t1.K1 = t2.K1 WHERE t1.c13 > 400 GROUP BY t1.K0\").fetchall()"
   ]
  },
  {
   "cell_type": "code",
   "execution_count": null,
   "id": "b00af6ed",
   "metadata": {},
   "outputs": [],
   "source": []
  },
  {
   "cell_type": "code",
   "execution_count": null,
   "id": "9fcee65a",
   "metadata": {},
   "outputs": [],
   "source": []
  }
 ],
 "metadata": {
  "kernelspec": {
   "display_name": "Python 3 (ipykernel)",
   "language": "python",
   "name": "python3"
  },
  "language_info": {
   "codemirror_mode": {
    "name": "ipython",
    "version": 3
   },
   "file_extension": ".py",
   "mimetype": "text/x-python",
   "name": "python",
   "nbconvert_exporter": "python",
   "pygments_lexer": "ipython3",
   "version": "3.9.7"
  }
 },
 "nbformat": 4,
 "nbformat_minor": 5
}
